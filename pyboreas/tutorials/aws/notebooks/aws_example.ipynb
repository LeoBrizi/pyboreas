{
 "cells": [
  {
   "cell_type": "markdown",
   "id": "2b76b368",
   "metadata": {},
   "source": [
    "# AWS Example\n",
    "In this tutorial, we'll demonstrate how you can use our dataset entirely using AWS cloud compute resources.\n",
    "\n",
    "If you haven't yet done so, you'll need an AWS account:\n",
    "\n",
    "1. [Create an AWS account](https://aws.amazon.com/premiumsupport/knowledge-center/create-and-activate-aws-account/)\n",
    "\n",
    "2. Create an Amazon EC2 Key Pair, by following the instructions below:\n",
    "    \n",
    "    a. Sign into the AWS Management Console\n",
    "    b. Set your region to us-west-2\n",
    "    c. Create an Amazon EC2 key pair\n",
    "        i. Browse to the EC2 console\n",
    "        ii. In the left hand navigation menu, under the ‘Network & Security’ section, click Key Pairs\n",
    "        iii. Click the Create Key Pair button\n",
    "        iv. Give your Key Pair a unique name, e.g. adrian-jupyter\n",
    "        v. Click the Create button\n",
    "        vi. udpate permissions on private key: chmod 0400 adrian-jupyter.pem\n",
    "\n",
    "Note: Don’t lose this and store is in a safe place! It effectively authenticates you when using AWS \n",
    "programmatically. You don’t want someone else impersonating you or using your credentials. \n",
    "We’ll be using this private key later in the labs.\n",
    "    \n"
   ]
  },
  {
   "cell_type": "code",
   "execution_count": null,
   "id": "4670b500",
   "metadata": {},
   "outputs": [],
   "source": []
  }
 ],
 "metadata": {
  "kernelspec": {
   "display_name": "Python 3 (ipykernel)",
   "language": "python",
   "name": "python3"
  },
  "language_info": {
   "codemirror_mode": {
    "name": "ipython",
    "version": 3
   },
   "file_extension": ".py",
   "mimetype": "text/x-python",
   "name": "python",
   "nbconvert_exporter": "python",
   "pygments_lexer": "ipython3",
   "version": "3.8.10"
  }
 },
 "nbformat": 4,
 "nbformat_minor": 5
}
